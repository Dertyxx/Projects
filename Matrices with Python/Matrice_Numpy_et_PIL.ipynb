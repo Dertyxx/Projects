{
  "cells": [
    {
      "cell_type": "markdown",
      "metadata": {
        "id": "SbLO2_rzkcZu"
      },
      "source": [
        "# **TP Traitement d'image avec numpy et PIL**"
      ]
    },
    {
      "cell_type": "markdown",
      "metadata": {
        "id": "tR6nMZM3KN-E"
      },
      "source": [
        "**Exercice 1:** \n",
        "\n",
        "Avec np.array, créons un tableau 2 × 2 de triplets représentant chaque couleur primaire avec\n",
        "un triplet supplémentaire pour la couleure blanche et affichons l’image correspondante.\n",
        "\n",
        "**PS: Il faudra zoomer pour voir l'image**"
      ]
    },
    {
      "cell_type": "code",
      "execution_count": 74,
      "metadata": {
        "colab": {
          "base_uri": "https://localhost:8080/",
          "height": 34
        },
        "id": "h0s9R7bKNjI3",
        "outputId": "e5e8ed79-7783-442e-c0b1-0b71c51e1963"
      },
      "outputs": [],
      "source": [
        "#1.\n",
        "import numpy as np\n",
        "from PIL import Image\n",
        "from math import tan, atan, pi\n",
        "t = np.array([[[255,0,0],[0,255,0]],[[0,0,255],[255,255,255]]]) \n",
        "nouvim=Image.fromarray(np.uint8(t)) \n",
        "#importation de numpy et de PIL puis ecriture des differentes composantes des couleurs dans l'ordre \n",
        "#2. \n",
        "nouvim.show() \n",
        "nouvim.save(\"nouvim.jpg\")"
      ]
    },
    {
      "cell_type": "markdown",
      "metadata": {
        "id": "Vuv_SApsKo5q"
      },
      "source": [
        "**Exercice 2:** \n",
        "- Realisons l’importation de l’image, puis sa transformation sous forme de tableau\n",
        "- donnons la taille de l’image en pixels\n",
        "- Donnons les composantes de couleurs du dernier pixel de l’image (celui en bas à droite)"
      ]
    },
    {
      "cell_type": "code",
      "execution_count": 2,
      "metadata": {
        "colab": {
          "base_uri": "https://localhost:8080/"
        },
        "id": "fhEz18DjOC7J",
        "outputId": "5363eaea-146b-4706-8307-0c89e34fdaf3"
      },
      "outputs": [
        {
          "name": "stdout",
          "output_type": "stream",
          "text": [
            "(240, 240)\n",
            "JPEG\n",
            "RGB\n",
            "240\n"
          ]
        }
      ],
      "source": [
        "#1. \n",
        "#J'utilise juste les caracteristiques de l'image donnee plus haut\n",
        "img=Image.open(\"landscape.jpg\")\n",
        "T=np.array(img) \n",
        "print(img.size) \n",
        "print(img.format) \n",
        "print(img.mode) \n",
        "print(len(T)) \n",
        "\n"
      ]
    },
    {
      "cell_type": "markdown",
      "metadata": {
        "id": "ZJ1j9GpZLJ7e"
      },
      "source": [
        "2. L'image comporte 4 pixels\n",
        "3. les composantes du dernier pixel sont\n",
        "r=255 , v=255 et b=255"
      ]
    },
    {
      "cell_type": "markdown",
      "metadata": {
        "id": "eylF6EB9Ln8m"
      },
      "source": [
        "**Exercice 3:** \n",
        "\n",
        "Ecrivons la fonction omposante_rouge(T), qui renvoie pour un tableau uniquement les composantes rouges, à savoir [r, 0, 0] pour un triplet [r, v, b] (on remarquera que le fonctionnement choisi évite les effets de bords).\n",
        "\n",
        "Puis les fonction omposante_verte(T) et omposante_bleu(T)"
      ]
    },
    {
      "cell_type": "code",
      "execution_count": 3,
      "metadata": {
        "id": "tUY-rf82OMFX"
      },
      "outputs": [],
      "source": [
        "#1.\n",
        "def composante_rouge(T):\n",
        "    U = []  # Le tableau où l'on stockera le résultat\n",
        "\n",
        "    # Itération avec la boucle for\n",
        "    for i in range(len(T)):\n",
        "        L = []  # La ligne à remplir\n",
        "        for j in range(len(T[0])):\n",
        "            L.append([T[i][j][0], 0, 0])  # On ne garde que la composante rouge\n",
        "        U.append(L)  # On complète U avec la ligne L\n",
        "    \n",
        "    return U\n"
      ]
    },
    {
      "cell_type": "code",
      "execution_count": 5,
      "metadata": {
        "id": "SdKM6uZKOOzd"
      },
      "outputs": [],
      "source": [
        "def composante_vert(T):\n",
        "    U = []  # Le tableau où l'on stockera le résultat\n",
        "    \n",
        "    for i in range(len(T)):\n",
        "        L = []  # La ligne à remplir\n",
        "        for j in range(len(T[0])):\n",
        "            L.append([0, T[i][j][1], 0])  # On ne garde que la composante verte\n",
        "        U.append(L)  # On complète U avec la ligne L\n",
        "        \n",
        "    return U\n"
      ]
    },
    {
      "cell_type": "code",
      "execution_count": 4,
      "metadata": {},
      "outputs": [],
      "source": [
        "def composante_bleu(T):\n",
        "    U = []  # Le tableau où l'on stockera le résultat\n",
        "    \n",
        "    for i in range(len(T)):\n",
        "        L = []  # La ligne à remplir\n",
        "        for j in range(len(T[0])):\n",
        "            L.append([0, 0, T[i][j][2]])  # On ne garde que la composante bleue\n",
        "        U.append(L)  # On complète U avec la ligne L\n",
        "        \n",
        "    return U\n"
      ]
    },
    {
      "cell_type": "code",
      "execution_count": 14,
      "metadata": {
        "colab": {
          "base_uri": "https://localhost:8080/",
          "height": 737
        },
        "id": "sSFSydSwOR8-",
        "outputId": "2b9a67ff-88bd-4201-c5dc-a4a69ca928f6"
      },
      "outputs": [],
      "source": [
        "#3.\n",
        "imgrg=Image.fromarray(np.uint8(composante_rouge(T)))\n",
        "imgrg.show()\n",
        "imgvt=Image.fromarray(np.uint8(composante_vert(T)))\n",
        "imgvt.show()\n",
        "imgbl=Image.fromarray(np.uint8(composante_bleu(T)))\n",
        "imgbl.show()\n",
        "imgrg.save(\"imgrg.jpg\")\n",
        "imgvt.save(\"imgvt.jpg\")\n",
        "imgbl.save(\"imgbl.jpg\")"
      ]
    },
    {
      "cell_type": "markdown",
      "metadata": {
        "id": "yawOO0TuMXfL"
      },
      "source": [
        "**Exercice 4:** \n",
        "\n",
        "On appelle négatif de tout [r, v, b] le triplet [255-r, 255-v, 255-b]. Écrivons une fonction negatif(T) qui renvoie le tableau des négatifs de T. "
      ]
    },
    {
      "cell_type": "code",
      "execution_count": 17,
      "metadata": {
        "colab": {
          "base_uri": "https://localhost:8080/",
          "height": 34
        },
        "id": "FAMsDalDOTxp",
        "outputId": "0e95a849-199e-460b-93db-bffe6804ef43"
      },
      "outputs": [],
      "source": [
        "def negatif(T): \n",
        "    # Initialisation du tableau pour l'image négative\n",
        "    image_neg = [] \n",
        "    \n",
        "    # Parcours de chaque ligne de l'image\n",
        "    for ligne in T: \n",
        "        ligne_neg = []  # Initialisation de la ligne de l'image négative\n",
        "        # Parcours de chaque pixel dans la ligne\n",
        "        for pixel in ligne: \n",
        "            # Inversion des composantes de couleur en soustrayant chaque composante de 255\n",
        "            pixel_neg = [255 - pixel[0], 255 - pixel[1], 255 - pixel[2]]\n",
        "            ligne_neg.append(pixel_neg)  # Ajout du pixel à la ligne de l'image négative\n",
        "        image_neg.append(ligne_neg)  # Ajout de la ligne complète à l'image négative\n",
        "        \n",
        "    return image_neg\n",
        "\n",
        "# Création de l'image négative\n",
        "img_neg = Image.fromarray(np.uint8(negatif(T)))\n",
        "img_neg.show()  # Affichage de l'image négative\n",
        "img_neg.save(\"img_neg.jpg\")  # Sauvegarde de l'image négative\n"
      ]
    },
    {
      "cell_type": "markdown",
      "metadata": {
        "id": "cL_V8sqtMkZY"
      },
      "source": [
        "**Exercice 5:** \n",
        "\n",
        "Écrivons une fonction inversioncouleurs(T) qui permutera au moins deux couleurs de chaque pixel (toujours la même permutation, quelque soit le pixel). "
      ]
    },
    {
      "cell_type": "code",
      "execution_count": 18,
      "metadata": {
        "colab": {
          "base_uri": "https://localhost:8080/",
          "height": 34
        },
        "id": "gv1nAvVMOWzy",
        "outputId": "1f7428f3-7c3e-45bb-db73-4ffa545b2262"
      },
      "outputs": [],
      "source": [
        "def inversioncouleurs(T): \n",
        "    # Initialisation du tableau pour l'image avec les couleurs inversées\n",
        "    image_inverse = [] \n",
        "    \n",
        "    # Parcours de chaque ligne de l'image\n",
        "    for i in range(len(T)):\n",
        "        ligne_inverse = []  # Initialisation de la ligne pour l'image avec les couleurs inversées\n",
        "        # Parcours de chaque pixel dans la ligne\n",
        "        for j in range(len(T[0])):\n",
        "            # Création d'un nouveau pixel avec les composantes de couleur inversées\n",
        "            pixel_inverse = [T[i][j][2], T[i][j][0], T[i][j][1]]\n",
        "            ligne_inverse.append(pixel_inverse)  # Ajout du pixel à la ligne de l'image inversée\n",
        "        image_inverse.append(ligne_inverse)  # Ajout de la ligne complète à l'image avec les couleurs inversées\n",
        "        \n",
        "    return image_inverse\n",
        "\n",
        "imginv=Image.fromarray(np.uint8(inversioncouleurs(T)))\n",
        "imginv.show() \n",
        "imginv.save(\"imginv.jpg\") "
      ]
    },
    {
      "cell_type": "markdown",
      "metadata": {
        "id": "LHGofx0wMn_U"
      },
      "source": [
        "**Exercice 6:** \n",
        "\n",
        "Écrivons une fonction attenuation(T) qui divise chaque valeur d’un triplet de couleur par 2."
      ]
    },
    {
      "cell_type": "code",
      "execution_count": 20,
      "metadata": {
        "colab": {
          "base_uri": "https://localhost:8080/",
          "height": 34
        },
        "id": "OZzyHSg0ObIA",
        "outputId": "1cb14bdd-7215-4211-f5b7-956843ef18fa"
      },
      "outputs": [],
      "source": [
        "def attenuation(T): \n",
        "    # Initialisation du tableau pour l'image atténuée\n",
        "    image_attenuee = [] \n",
        "    \n",
        "    # Parcours de chaque ligne de l'image\n",
        "    for i in range(len(T)):\n",
        "        ligne_attenuee = []  # Initialisation de la ligne pour l'image atténuée\n",
        "        # Parcours de chaque pixel dans la ligne\n",
        "        for j in range(len(T[0])):\n",
        "            # Création d'un nouveau pixel avec les composantes de couleur atténuées\n",
        "            pixel_attenue = [T[i][j][0] / 2, T[i][j][1] / 2, T[i][j][2]]\n",
        "            ligne_attenuee.append(pixel_attenue)  # Ajout du pixel à la ligne de l'image atténuée\n",
        "        image_attenuee.append(ligne_attenuee)  # Ajout de la ligne complète à l'image atténuée\n",
        "        \n",
        "    return image_attenuee\n",
        "\n",
        "imgatt=Image.fromarray(np.uint8(attenuation(T)))\n",
        "imgatt.show() \n",
        "imgatt.save(\"imgatt.jpg\")"
      ]
    },
    {
      "cell_type": "markdown",
      "metadata": {
        "id": "qRwYpUVLMxOF"
      },
      "source": [
        "**Exercice 7:** \n",
        "\n",
        "Écrivons une fonction renverse(T) qui renvoie le tableau correspondant à l’image renversée (par symétrie centrale).\n",
        "\n",
        "Écrivons également des fonctions miroir1(T) et miroir2(T) qui renvoient respectivement les tableaux correspondants à la symétrie d’axe vertical et la symétrie d’axe horizontal."
      ]
    },
    {
      "cell_type": "code",
      "execution_count": 23,
      "metadata": {
        "colab": {
          "base_uri": "https://localhost:8080/",
          "height": 69
        },
        "id": "zmaj4-5TOdiU",
        "outputId": "608517bd-b964-4feb-ea4d-33d8c84bc7f0"
      },
      "outputs": [],
      "source": [
        "# 1. Renverse l'image\n",
        "def renverse(image):\n",
        "    # Déterminer les dimensions de l'image\n",
        "    nb_lignes, nb_colonnes = len(image), len(image[0])\n",
        "    image_retournee = []\n",
        "    # Parcours de l'image\n",
        "    for i in range(nb_lignes):\n",
        "        ligne_retournee = []\n",
        "        for j in range(nb_colonnes):\n",
        "            # Ajoute les pixels inversés dans la ligne\n",
        "            ligne_retournee.append([image[nb_lignes - 1 - i][nb_colonnes - 1 - j][0],\n",
        "                                    image[nb_lignes - 1 - i][nb_colonnes - 1 - j][1],\n",
        "                                    image[nb_lignes - 1 - i][nb_colonnes - 1 - j][2]])\n",
        "        image_retournee.append(ligne_retournee)\n",
        "    return image_retournee\n",
        "\n",
        "# 2. Miroir horizontal\n",
        "def miroir_horizontal(image):\n",
        "    nb_lignes, nb_colonnes = len(image), len(image[0]) \n",
        "    image_miroir = [] \n",
        "    # Parcours de l'image\n",
        "    for i in range(nb_lignes):\n",
        "        ligne_miroir = []\n",
        "        for j in range(nb_colonnes):\n",
        "            # Ajoute les pixels inversés horizontalement\n",
        "            ligne_miroir.append([image[nb_lignes - 1 - i][j][0],\n",
        "                                  image[nb_lignes - 1 - i][j][1],\n",
        "                                  image[nb_lignes - 1 - i][j][2]])\n",
        "        image_miroir.append(ligne_miroir)\n",
        "    return image_miroir\n",
        "\n",
        "# 3. Miroir vertical\n",
        "def miroir_vertical(image):\n",
        "    nb_lignes, nb_colonnes = len(image), len(image[0]) \n",
        "    image_miroir = [] \n",
        "    # Parcours de l'image\n",
        "    for i in range(nb_lignes):\n",
        "        ligne_miroir = []\n",
        "        for j in range(nb_colonnes):\n",
        "            # Ajoute les pixels inversés verticalement\n",
        "            ligne_miroir.append([image[i][nb_colonnes - 1 - j][0],\n",
        "                                  image[i][nb_colonnes - 1 - j][1],\n",
        "                                  image[i][nb_colonnes - 1 - j][2]])\n",
        "        image_miroir.append(ligne_miroir)\n",
        "    return image_miroir\n",
        "\n",
        "#3.\n",
        "imgrv=Image.fromarray(np.uint8(renverse(T)))\n",
        "symetrie_verticale=Image.fromarray(np.uint8(miroir_horizontal(T)))\n",
        "symetrie_horizontale=Image.fromarray(np.uint8(miroir_vertical(T)))\n",
        "imgrv.show()\n",
        "symetrie_verticale.show()\n",
        "symetrie_horizontale.show() \n",
        "symetrie_verticale.save(\"symetrieverticale.jpg\") \n",
        "symetrie_horizontale.save(\"symrtiehorizontale.jpg\")\n",
        "imgrv.save(\"imgrv.jpg\")\n",
        "\n"
      ]
    },
    {
      "cell_type": "markdown",
      "metadata": {
        "id": "k5S-USaeNKS2"
      },
      "source": [
        "**Exercice 8**: \n",
        "\n",
        "Une image en niveau de gris s’obtient, à partir d’une image en couleur, de la manière suivante : pour des valeurs r, v, b de niveaux respectifs du rouge, vert et bleu d’un pixel, l’indice du niveau de gris est donné par :\n",
        "\n",
        "$$\n",
        "g = 0.299r + 0.587v + 0.114b\n",
        "$$\n",
        "\n",
        "\n",
        "Ensuite, l’image en niveau de gris est l’image obtenue avec des pixels dont les trois nuances de rouge, vert et bleu sont toutes égales à l’indice g calculé. Écrivez une fonction niveaugris(T) qui renvoie le tableau correspondant à l’image en niveau de gris."
      ]
    },
    {
      "cell_type": "code",
      "execution_count": 25,
      "metadata": {
        "colab": {
          "base_uri": "https://localhost:8080/",
          "height": 257
        },
        "id": "nsqTEoMZOrKb",
        "outputId": "33a4fafe-3f95-40b4-c546-eda0f0e41fbb"
      },
      "outputs": [],
      "source": [
        "def niveaugris(T): \n",
        "    # Initialisation du tableau pour l'image en niveaux de gris\n",
        "    image_grise = [] \n",
        "    \n",
        "    # Parcours de chaque ligne de l'image\n",
        "    for i in range(len(T)):\n",
        "        ligne_grise = []  # Initialisation de la ligne pour l'image en niveaux de gris\n",
        "        # Parcours de chaque pixel dans la ligne\n",
        "        for j in range(len(T[0])):\n",
        "            # Calcul de la luminance en niveaux de gris pour chaque pixel\n",
        "            luminance = 0.299 * T[i][j][0] + 0.587 * T[i][j][1] + 0.114 * T[i][j][2]\n",
        "            ligne_grise.append(luminance)  # Ajout de la luminance à la ligne de l'image en niveaux de gris\n",
        "        image_grise.append(ligne_grise)  # Ajout de la ligne complète à l'image en niveaux de gris\n",
        "        \n",
        "    return image_grise\n",
        "\n",
        "image_gris=Image.fromarray(np.uint8(niveaugris(T)))\n",
        "image_gris.show() \n",
        "image_gris.save(\"image_gris.jpg\")"
      ]
    },
    {
      "cell_type": "markdown",
      "metadata": {
        "id": "uohXcljZNQTN"
      },
      "source": [
        "**Exercice 9:** \n",
        "\n",
        "La question de la rotation d’une image peut être complexe, nous examinerons rapidement une idée.\n",
        "\n",
        "Considérons une matrice de pixels, carrée, en noir et blanc (donc une liste de listes d’entiers).\n",
        "Nous appliquons le principe récursif suivant: \n",
        "- nous divisons l’image en 4 quadrants et si nous les notons $$(c1, c2, c3, c4)$$ \n",
        "- alors nous renvoyons $$(c2, c3, c4, c1)$$\n",
        "- puis nous recommençons, jusqu'à ce que ces quadrants contiennent un pixel."
      ]
    },
    {
      "cell_type": "code",
      "execution_count": 95,
      "metadata": {
        "colab": {
          "base_uri": "https://localhost:8080/",
          "height": 497
        },
        "id": "S4v5bizPXxZG",
        "outputId": "cb96c206-d031-4921-99c6-58929282631f"
      },
      "outputs": [],
      "source": [
        "matrice_rot=[]\n",
        "\n",
        "for i in range(len(T)):\n",
        "    L=[]\n",
        "    for j in range(len(T[0])):\n",
        "        L.append(T[i][j])\n",
        "    matrice_rot.append(L)\n",
        "\n",
        "def rotation(img,a,b,c):\n",
        "   if c>1:\n",
        "      c=c//2\n",
        "      for i in range(a,a+c):\n",
        "         for j in range(b,b+c):\n",
        "            temp=img[i][j]\n",
        "            img[i][j]=img[i][j+c]\n",
        "            img[i][j+c]=img[i+c][j+c]\n",
        "            img[i+c][j+c]=img[i+c][j]\n",
        "            img[i+c][j]=temp\n",
        "      rotation(img,a,b,c)\n",
        "      rotation(img,a,b+c,c)\n",
        "      rotation(img,a+c,b,c)\n",
        "      rotation(img,a+c,b+c,c)\n",
        "   return img\n",
        "rotation(matrice_rot,0,0,len(matrice_rot))\n",
        "image_rot=Image.fromarray(np.uint8(matrice_rot))\n",
        "image_rot.show()\n",
        "image_rot.save(\"image_rot.jpg\")"
      ]
    },
    {
      "cell_type": "markdown",
      "metadata": {
        "id": "0q5Tel4md_Kb"
      },
      "source": [
        "**Exercice 10:** \n",
        "\n",
        "Ecrivons une fonction prenant en entrée une matrice en RGB et renvoyant la même matrice après avoir effectué une permutation sur les couleurs de l’image\n"
      ]
    },
    {
      "cell_type": "code",
      "execution_count": 96,
      "metadata": {
        "colab": {
          "base_uri": "https://localhost:8080/",
          "height": 257
        },
        "id": "yNIpbcApa08G",
        "outputId": "89216711-69b8-4b4d-bf06-1c612452a2e0"
      },
      "outputs": [],
      "source": [
        "\n",
        "def permutation(P):\n",
        "  U=[] # le tableau où l' on stockera le résultat\n",
        "  for i in range(len(P)):\n",
        "    L=[] # la ligne à remplir \n",
        "    for j in range(len(P[0])):\n",
        "      L.append([P[i][j][1],P[i][j][0],P[i][j][2]]) \n",
        "    U.append(L) # on complète U avec la ligne L\n",
        "  return U  \n",
        "\n",
        "im_per=Image.fromarray(np.uint8(permutation(T)))\n",
        "im_per.show() \n",
        "im_per.save(\"image_per.jpg\")\n",
        "\n",
        "\n",
        "\n"
      ]
    },
    {
      "cell_type": "markdown",
      "metadata": {
        "id": "Ry-kBBapN2FQ"
      },
      "source": [
        "**Exercice 11:**\n",
        "\n",
        "Nous pouvons modifier le contraste d’une image RGB en commençant par ajuster l’ensemble des valeurs des canaux RGB à l'aide d'une fonction $f$ qui aurait l'un des deux effets suivants :\n",
        "\n",
        "- Soit la fonction accentue les contrastes en rapprochant les valeurs centrales (proches de 122) des extrêmes les plus proches (0 ou 255):\n",
        "\n",
        "$$\n",
        "f : x \\mapsto 255 \\times \\left(\\arctan\\left(\\frac{x-122}{20}\\right) \\times \\frac{1}{\\pi} + \\frac{1}{2}\\right)\n",
        "$$\n",
        "\n",
        "- Soit la fonction atténue les contrastes en rapprochant les valeurs proches des extrêmes vers le centre.\n",
        "$$\n",
        "g : x \\mapsto \\tan\\left(\\left(\\frac{x}{255} - \\frac{1}{2}\\right) \\times \\pi\\right) \\times 20 + 122\n",
        "$$\n",
        "\n",
        "\n",
        "Ces deux fonctions ont des effets différents sur le contraste d'une image RGB.\n",
        "\n",
        "- La fonction $f$ augmente les contrastes en étirant les valeurs des pixels proches des extrêmes (0 et 255) vers les valeurs centrales (122). Cela rend l'image plus nette et plus claire en augmentant la différence entre les pixels clairs et foncés.\n",
        "\n",
        "- La fonction *g* diminue les contrastes en compressant les valeurs des pixels proches des extrêmes vers les valeurs centrales. Cela rend l'image plus douce et plus uniforme en réduisant la différence entre les pixels clairs et foncés.\n",
        "\n",
        "Appliquons les deux fonctions sur notre image"
      ]
    },
    {
      "cell_type": "code",
      "execution_count": 97,
      "metadata": {
        "colab": {
          "base_uri": "https://localhost:8080/",
          "height": 497
        },
        "id": "-Hg466ExdQIJ",
        "outputId": "4a350d3b-6b47-4c7e-b331-fb50a155d607"
      },
      "outputs": [],
      "source": [
        "def ftconstraste1(x):\n",
        "    return int(255*(atan((x-122)/20)/pi+1/2))\n",
        "def ftconstraste2(x):\n",
        "    if x>230:\n",
        "        return 255\n",
        "    if x<20 :\n",
        "        return 0\n",
        "    return int(tan((x/255-1/2)*pi)*20+122)\n",
        "def contraste(P,f):\n",
        "    U=[]\n",
        "    for i in range(len(P)):\n",
        "        L=[]\n",
        "        for j in range(len(P[0])):\n",
        "            g=f(P[i][j][0])\n",
        "            h=f(P[i][j][1])\n",
        "            t=f(P[i][j][2])\n",
        "            L.append([ g,h,t])\n",
        "        U.append(L)\n",
        "    return U\n",
        "\n",
        "imgcontraste1=contraste(T,ftconstraste1)\n",
        "imgct1=Image.fromarray(np.uint8(imgcontraste1))\n",
        "imgcontraste2=contraste(T,ftconstraste2)\n",
        "imgct2=Image.fromarray(np.uint8(imgcontraste2))\n",
        "imgct1.show()\n",
        "imgct2.show() \n",
        "imgct1.save(\"imgct1.jpg\") \n",
        "imgct2.save(\"imgct2.jpg\")"
      ]
    },
    {
      "cell_type": "markdown",
      "metadata": {},
      "source": [
        "Nous étudierons maintenant le produit de convolution sur une matrice d’image. \n",
        "\n",
        "On considèrera une matrice d’image en noir et blanc que l’on notera à l’aide d’une suite indexée par deux entiers: $$T = (T_{i,j})_{i \\in [0, n-1], j \\in [0, m-1]}$$ (on peut la voir comme une matrice).\n",
        "\n",
        "Soit $$c = (c_{i,j})_{i \\in [0, d-1], j \\in [0, d-1]}$$ on d´efinit alors le produit de convolution $T * c$ de $T$ par $c$ par la suite indexée par deux entiers tel que \n",
        "\n",
        "$$ \\forall (i, j) \\in [[0, n - 1]] \\times [[0, m - 1]]:(z \\times c)_{i,j} = \\sum_{k=0}^{d-1} \\sum_{l=0}^{d-1} T_{i-k,j-l}c_{k,l}\n",
        "$$"
      ]
    },
    {
      "cell_type": "markdown",
      "metadata": {
        "id": "LDzZiyhBPv8y"
      },
      "source": [
        "\n",
        "**Exercice 12:**\n",
        "\n",
        "On pose les deux matrices\n",
        "\n",
        "$\n",
        "C_0 =\n",
        "\\begin{pmatrix}\n",
        "1/9 & 1/9 & 1/9 \\\\\n",
        "1/9 & 1/9 & 1/9 \\\\\n",
        "1/9 & 1/9 & 1/9 \\\\\n",
        "\\end{pmatrix}\n",
        "\\quad \\text{et} \\quad\n",
        "C_1 =\n",
        "\\begin{pmatrix}\n",
        "0 & -1 & 0 \\\\\n",
        "-1 & 5 & -1 \\\\\n",
        "0 & -1 & 0 \\\\\n",
        "\\end{pmatrix}\n",
        "$\n",
        "\n",
        "\n",
        "Le produit de convolution $\\quad (T \\times C_0)_{i,j}$, pour $\\forall i, j$, correspond à une opération de filtrage de l'image $T$ par le filtre $C_0$. Cette opération consiste à calculer la moyenne pondérée des pixels voisins de $(i,j)$ en utilisant les coefficients de $C_O$ comme poids. Ainsi, chaque pixel de l'image $T$ est remplacé par une valeur moyenne de ses voisins, ce qui a pour effet de lisser l'image et d'éliminer le bruit.\n",
        "Le produit de convolution par C0 produit une nouvelle matrice d'image qui est une version lissée de $T$. Cette nouvelle matrice peut être considérée comme une approximation de $T$ où les détails et le bruit ont été réduits."
      ]
    },
    {
      "cell_type": "code",
      "execution_count": 51,
      "metadata": {
        "id": "ckUQa7Jsc9Nu"
      },
      "outputs": [],
      "source": [
        "def convolution_xy(P,C,n,m):\n",
        "    g=0\n",
        "    d=len(C)\n",
        "    for i in range(0,d):\n",
        "        for j in range(0,d):\n",
        "            g+=P[n-i][m-j]*C[i][j]\n",
        "    return g\n",
        "\n",
        "def convolution(P,C):\n",
        "    px,py=len(P),len(P[0])\n",
        "    p,q=len(C),len(C[0])\n",
        "    P1=[[0 for _ in range(py)] for _ in range(px)]\n",
        "    print(len(P1),len(P1[0]))\n",
        "    for x in range(0,px):\n",
        "        for y in range(0,py):\n",
        "            P1[x][y]=convolution_xy(P,C,x,y)\n",
        "    return P1"
      ]
    },
    {
      "cell_type": "markdown",
      "metadata": {
        "id": "CylstUh3UPyK"
      },
      "source": [
        "**Exercice 13:**\n",
        "\n",
        "Écrivons une fonction qui prend en entrée une matrice de pixels en noir et blanc $T$ et une matrice $C$ et renvoie le produit de convolution $T \\times C$ et testerons cette fonction avec $C_0$ et $C_1$.\n"
      ]
    },
    {
      "cell_type": "code",
      "execution_count": 81,
      "metadata": {
        "colab": {
          "base_uri": "https://localhost:8080/",
          "height": 772
        },
        "id": "El82Xm8Se9Ma",
        "outputId": "88b621d7-e8de-4cf4-82e3-415ed61f5ab5"
      },
      "outputs": [
        {
          "name": "stdout",
          "output_type": "stream",
          "text": [
            "240 240\n",
            "240 240\n"
          ]
        }
      ],
      "source": [
        "def lissage(T):\n",
        "    lis=[[1/9,1/9,1/9],[1/9,1/9,1/9],[1/9,1/9,1/9]]\n",
        "    matrice_lis=convolution(niveaugris(T),lis)\n",
        "    return matrice_lis\n",
        "\n",
        "def accentuation(T):\n",
        "    accent=[[0,-1,0],[-1,5,-1],[0,-1,0]]\n",
        "    matrice_accent=convolution(niveaugris(T),accent)\n",
        "    return matrice_accent\n",
        "i   \n",
        "\n",
        "image_lis=Image.fromarray(np.uint8(lissage(T)))\n",
        "image_accent=Image.fromarray(np.uint8(accentuation(T)))\n",
        "image_lis.show()\n",
        "image_accent.show() \n",
        "image_lis.save(\"image_lis.jpg\") \n",
        "image_accent.save(\"image_accent.jpg\")\n"
      ]
    },
    {
      "cell_type": "markdown",
      "metadata": {
        "id": "JwHR6Uy2UXW8"
      },
      "source": [
        "**Exercice 14:**\n",
        "\n",
        "Enfin, nous cherchons à renvoyer, à partir d’une image de départ, une image contenant uniquement les lignes de contours des formes présentes sur l’image. L’idée est de calculer la variation de l’intensité des pixels et de ne renvoyer que ceux qui ont une intensité fortement supérieure à celle de leurs voisins. \n",
        "\n",
        "Pour cela, nous admettons que le maximum des valeurs absolues des produits de convolution de $T$ par les matrices de $Sobel$ : \n",
        "\n",
        "$$\n",
        "G_x = \n",
        "\\begin{pmatrix}\n",
        "1 & 2 & 1 \\\\\n",
        "0 & 0 & 0 \\\\\n",
        "-1 & -2 & -1 \\\\\n",
        "\\end{pmatrix}\n",
        "\\quad \\text{et} \\quad\n",
        "G_y =^t G_x\n",
        "$$\n",
        "\n",
        "renvoie une estimation de cette variation d’intensité. Construisons une fonction $Sobel(T, s)$ qui prend en entrée une matrice de pixels en noir et blanc, $T$, et un entier seuil $s$, et renvoie la matrice des lignes de contours de la matrice originale (nous supprimerons les pixels dont la variation est inférieure à $s$). Testons-la avec $s = 60$.\n",
        "\n"
      ]
    },
    {
      "cell_type": "code",
      "execution_count": 68,
      "metadata": {
        "colab": {
          "base_uri": "https://localhost:8080/",
          "height": 292
        },
        "id": "6H-MDQGGp01Y",
        "outputId": "2f39c727-e422-41b3-b44c-4a27f615d087"
      },
      "outputs": [
        {
          "name": "stdout",
          "output_type": "stream",
          "text": [
            "240 240\n",
            "240 240\n"
          ]
        }
      ],
      "source": [
        "def sobel(P,s):\n",
        "    Sobelx=[[1,2,1],[0,0,0],[-1,-2,-1]]\n",
        "    Sobely=[[1,0,-1],[2,0,-2],[1,0,-1]]\n",
        "    GX=convolution(P,Sobelx)\n",
        "    GY=convolution(P,Sobely)\n",
        "    px,py=len(P),len(P[0])\n",
        "    T1=[[255 for _ in range(py)] for _ in range(px)]\n",
        "    for x in range(0,px):\n",
        "        for y in range(0,py):\n",
        "            g=max(abs(int(GX[x][y])),abs(int(GY[x][y])))\n",
        "            if g>s:\n",
        "                T1[x][y]=0\n",
        "    return T1\n",
        "So=sobel(niveaugris(T),60)\n",
        "contour=Image.fromarray(np.uint8(So))\n",
        "contour.show() \n",
        "contour.save(\"contour.jpg\")"
      ]
    },
    {
      "cell_type": "markdown",
      "metadata": {
        "id": "gyMsZ7HieqmQ"
      },
      "source": [
        "**Défi:**\n",
        "\n",
        "En examinant la fonction de deux variables $Z$ (que nous supposerons $C^2$) telle que $Z(x_i, y_j)$ est l'intensité du pixel d'index $(i, j)$ pour tout $i, j$, et les formules de Taylor, montrons que la méthode ci-dessus semble fonctionner, c'est-à-dire que les produits de convolution de $T$ par $G_x$ et par $G_y$ représentent une approximation du gradient de $Z$ en les points $x_i, y_j$.\n",
        "\n",
        "**1. Gradient et Convolution**\n",
        "Le gradient d'une fonction $Z$ à deux variables $x$ et $y$ est défini comme le vecteur formé par les dérivées partielles de $Z$ par rapport à $x$ et $y$. En d'autres termes, le gradient de $Z$ est $\\nabla Z = \\left(\\frac{\\partial Z}{\\partial x}, \\frac{\\partial Z}{\\partial y}\\right)$.\n",
        "\n",
        "Les produits de convolution de $T$ par $G_x$ et $G_y$ permettent de calculer les variations horizontales et verticales d'intensité de l'image, respectivement.\n",
        "\n",
        "**2. Approximation par Taylor**\n",
        "La formule de Taylor à deux variables nous permet d'approximer la valeur d'une fonction $Z$ autour d'un point donné en utilisant ses dérivées partielles jusqu'à un certain ordre.\n",
        "\n",
        "Pour un point $(x_i, y_j)$, nous pouvons écrire l'approximation de $Z$ par Taylor comme suit:\n",
        "$Z(x_i + \\Delta x, y_j + \\Delta y) \\approx Z(x_i, y_j) + \\frac{\\partial Z}{\\partial x}(x_i, y_j)\\Delta x + \\frac{\\partial Z}{\\partial y}(x_i, y_j)\\Delta y$\n",
        "où $\\Delta x$ et $\\Delta y$ sont de petits écarts par rapport à $x_i$ et $y_j$.\n",
        "\n",
        "**3. Relation avec les Convolutions**\n",
        "- La convolution de $T$ par $G_x$ (ou $G_y$) calcule la variation horizontale (ou verticale) d'intensité autour du point $(x_i, y_j)$.\n",
        "- En utilisant les valeurs de la convolution comme les $\\Delta x$ et $\\Delta y$ dans la formule de Taylor, nous obtenons:\n",
        "$Z(x_i + \\Delta x, y_j) \\approx Z(x_i, y_j) + \\text{Convolution de } T \\text{ par } G_x$\n",
        "et\n",
        "$Z(x_i, y_j + \\Delta y) \\approx Z(x_i, y_j) + \\text{Convolution de } T \\text{ par } G_y$\n",
        "\n",
        "**Conclusion:**\n",
        "\n",
        "En considérant que $Z$ est suffisamment régulière et que les écarts $\\Delta x$ et $\\Delta y$ sont petits, les produits de convolution de $T$ par $G_x$ et $G_y$ fournissent une approximation raisonnable du gradient de $Z$ en les points $x_i, y_j$.\n",
        "\n",
        "Ainsi, les produits de convolution de $T$ par $G_x$ et $G_y$ semblent représenter une estimation raisonnable du gradient de l'image en les points $x_i, y_j$.\n",
        "\n"
      ]
    }
  ],
  "metadata": {
    "colab": {
      "provenance": []
    },
    "kernelspec": {
      "display_name": "Python 3",
      "name": "python3"
    },
    "language_info": {
      "codemirror_mode": {
        "name": "ipython",
        "version": 3
      },
      "file_extension": ".py",
      "mimetype": "text/x-python",
      "name": "python",
      "nbconvert_exporter": "python",
      "pygments_lexer": "ipython3",
      "version": "3.11.5"
    }
  },
  "nbformat": 4,
  "nbformat_minor": 0
}
